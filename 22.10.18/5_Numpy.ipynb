{
  "nbformat": 4,
  "nbformat_minor": 0,
  "metadata": {
    "colab": {
      "provenance": [],
      "collapsed_sections": []
    },
    "kernelspec": {
      "name": "python3",
      "display_name": "Python 3"
    },
    "language_info": {
      "name": "python"
    }
  },
  "cells": [
    {
      "cell_type": "markdown",
      "source": [
        "### ndarray 생성 "
      ],
      "metadata": {
        "id": "P1vyn3mg6ljR"
      }
    },
    {
      "cell_type": "code",
      "execution_count": 1,
      "metadata": {
        "id": "RjDS0K9Mws2c"
      },
      "outputs": [],
      "source": [
        "import numpy as np "
      ]
    },
    {
      "cell_type": "code",
      "source": [
        "arr = np.array([1,2,3,4]) #numpy배열이다. \n",
        "print(arr) \n",
        "print(type(arr)) #그냥 리스트랑 기능이나 성능면에서 차이가 많이 난다. "
      ],
      "metadata": {
        "colab": {
          "base_uri": "https://localhost:8080/"
        },
        "id": "-nljguUg6rjH",
        "outputId": "1379a12f-9e15-4c5e-eddc-3d123d4b63c1"
      },
      "execution_count": 3,
      "outputs": [
        {
          "output_type": "stream",
          "name": "stdout",
          "text": [
            "[1 2 3 4]\n",
            "<class 'numpy.ndarray'>\n"
          ]
        }
      ]
    },
    {
      "cell_type": "markdown",
      "source": [
        "0으로 초기화된 배열 \n"
      ],
      "metadata": {
        "id": "_oG1ShppBfMS"
      }
    },
    {
      "cell_type": "code",
      "source": [
        "arr = np.zeros((3,3))\n",
        "print(arr)"
      ],
      "metadata": {
        "colab": {
          "base_uri": "https://localhost:8080/"
        },
        "id": "S2Q4RJeK6wEy",
        "outputId": "22148b33-d351-46fb-de50-c915c0b66bd6"
      },
      "execution_count": 4,
      "outputs": [
        {
          "output_type": "stream",
          "name": "stdout",
          "text": [
            "[[0. 0. 0.]\n",
            " [0. 0. 0.]\n",
            " [0. 0. 0.]]\n"
          ]
        }
      ]
    },
    {
      "cell_type": "markdown",
      "source": [
        "빈 값으로 만들어진 배열\n"
      ],
      "metadata": {
        "id": "cZ3bGd94Bg89"
      }
    },
    {
      "cell_type": "code",
      "source": [
        "arr = np.empty((2,2)) #다른 프로그램이 사용했던 찌꺼기가 보인다. \n",
        "print(arr) # 새로운 값으로 다 채울거면 굳이 0으로 초기화 안하는 게 좋다. \n",
        "# 0을 추가하는 것도 다 연산이 되니까. "
      ],
      "metadata": {
        "colab": {
          "base_uri": "https://localhost:8080/"
        },
        "id": "09sjs2BM8kpn",
        "outputId": "cc7fe53d-1548-4271-bf6c-9dd3560b45a9"
      },
      "execution_count": 7,
      "outputs": [
        {
          "output_type": "stream",
          "name": "stdout",
          "text": [
            "[[4.9e-324 9.9e-324]\n",
            " [1.5e-323 2.0e-323]]\n"
          ]
        }
      ]
    },
    {
      "cell_type": "markdown",
      "source": [
        "1로 가득찬 배열\n"
      ],
      "metadata": {
        "id": "K-FX5JxmBiXM"
      }
    },
    {
      "cell_type": "code",
      "source": [
        "arr = np.ones((3,3)) \n",
        "print(arr) "
      ],
      "metadata": {
        "colab": {
          "base_uri": "https://localhost:8080/"
        },
        "id": "d214_MOm9dQl",
        "outputId": "4d753d4f-8861-4e84-c787-a99421c10a5d"
      },
      "execution_count": 8,
      "outputs": [
        {
          "output_type": "stream",
          "name": "stdout",
          "text": [
            "[[1. 1. 1.]\n",
            " [1. 1. 1.]\n",
            " [1. 1. 1.]]\n"
          ]
        }
      ]
    },
    {
      "cell_type": "markdown",
      "source": [
        "배열의 생성 \n"
      ],
      "metadata": {
        "id": "PwK5tBwnBc1W"
      }
    },
    {
      "cell_type": "code",
      "source": [
        "# arr = np.array([0,1,2,3,4,5,6,7,8,9])\n",
        "arr = np.arange(10) \n",
        "print(arr) # 결과는 numpy배열 "
      ],
      "metadata": {
        "colab": {
          "base_uri": "https://localhost:8080/"
        },
        "id": "owoq-f8x-CF7",
        "outputId": "d25f8f10-0b61-40bf-9926-df2ba8702360"
      },
      "execution_count": 9,
      "outputs": [
        {
          "output_type": "stream",
          "name": "stdout",
          "text": [
            "[0 1 2 3 4 5 6 7 8 9]\n"
          ]
        }
      ]
    },
    {
      "cell_type": "markdown",
      "source": [
        "ndarray 배열의 모양, 차수, 데이터 타입 확인 \n"
      ],
      "metadata": {
        "id": "ySLTDBeVBbHB"
      }
    },
    {
      "cell_type": "code",
      "source": [
        "arr = np.array([[1,2,3],[4,5,6]]) # 정수형 배열 \n",
        "print(arr)"
      ],
      "metadata": {
        "colab": {
          "base_uri": "https://localhost:8080/"
        },
        "id": "dsbEfnm5-m9O",
        "outputId": "07187f02-6fbf-4ad0-9f4a-aef3ca05f735"
      },
      "execution_count": 15,
      "outputs": [
        {
          "output_type": "stream",
          "name": "stdout",
          "text": [
            "[[1 2 3]\n",
            " [4 5 6]]\n"
          ]
        }
      ]
    },
    {
      "cell_type": "code",
      "source": [
        "arr.shape "
      ],
      "metadata": {
        "colab": {
          "base_uri": "https://localhost:8080/"
        },
        "id": "f9SFRc8J_iGs",
        "outputId": "034158e6-582a-403b-84a7-dfb3bba729d3"
      },
      "execution_count": 12,
      "outputs": [
        {
          "output_type": "execute_result",
          "data": {
            "text/plain": [
              "(2, 3)"
            ]
          },
          "metadata": {},
          "execution_count": 12
        }
      ]
    },
    {
      "cell_type": "code",
      "source": [
        "arr.ndim"
      ],
      "metadata": {
        "colab": {
          "base_uri": "https://localhost:8080/"
        },
        "id": "iN0ZlKAo_yIj",
        "outputId": "024b4fca-e693-4ceb-b483-5c68a651cc06"
      },
      "execution_count": 13,
      "outputs": [
        {
          "output_type": "execute_result",
          "data": {
            "text/plain": [
              "2"
            ]
          },
          "metadata": {},
          "execution_count": 13
        }
      ]
    },
    {
      "cell_type": "code",
      "source": [
        "arr.dtype #정수형 "
      ],
      "metadata": {
        "colab": {
          "base_uri": "https://localhost:8080/"
        },
        "id": "ICtxteHj_zeI",
        "outputId": "7e8ad855-1fd6-4c5f-e198-402652a67770"
      },
      "execution_count": 14,
      "outputs": [
        {
          "output_type": "execute_result",
          "data": {
            "text/plain": [
              "dtype('int64')"
            ]
          },
          "metadata": {},
          "execution_count": 14
        }
      ]
    },
    {
      "cell_type": "markdown",
      "source": [
        "데이터 타입 변경 \n"
      ],
      "metadata": {
        "id": "LAsKmyO2BX6w"
      }
    },
    {
      "cell_type": "code",
      "source": [
        "arr_float = arr.astype(np.float64) # 숫자가 클수록 표현 범위가 높아진다.  \n",
        "arr_float.dtype "
      ],
      "metadata": {
        "colab": {
          "base_uri": "https://localhost:8080/"
        },
        "id": "asCeaLzN_0qd",
        "outputId": "a365ab71-f9b0-4f0d-bd3f-58c79a1f0103"
      },
      "execution_count": 16,
      "outputs": [
        {
          "output_type": "execute_result",
          "data": {
            "text/plain": [
              "dtype('float64')"
            ]
          },
          "metadata": {},
          "execution_count": 16
        }
      ]
    },
    {
      "cell_type": "code",
      "source": [
        "arr_str = np.array(['1','2','3'])\n",
        "arr_str.dtype"
      ],
      "metadata": {
        "colab": {
          "base_uri": "https://localhost:8080/"
        },
        "id": "DRRpkx2hAu6R",
        "outputId": "6ceb5652-9c69-47dd-fe32-8c9c024d27f0"
      },
      "execution_count": 17,
      "outputs": [
        {
          "output_type": "execute_result",
          "data": {
            "text/plain": [
              "dtype('<U1')"
            ]
          },
          "metadata": {},
          "execution_count": 17
        }
      ]
    },
    {
      "cell_type": "code",
      "source": [
        "arr_int = arr_str.astype(np.int64) \n",
        "arr_int.dtype"
      ],
      "metadata": {
        "colab": {
          "base_uri": "https://localhost:8080/"
        },
        "id": "u8wtjXYPA-EG",
        "outputId": "5a9390af-bbee-4b82-b913-dc22f3fa9cdf"
      },
      "execution_count": 18,
      "outputs": [
        {
          "output_type": "execute_result",
          "data": {
            "text/plain": [
              "dtype('int64')"
            ]
          },
          "metadata": {},
          "execution_count": 18
        }
      ]
    },
    {
      "cell_type": "markdown",
      "source": [
        "### ndarray 배열의 연산 "
      ],
      "metadata": {
        "id": "SiP8NoOWBVJk"
      }
    },
    {
      "cell_type": "code",
      "source": [
        "arr1 = np.array([[1,2],[3,4]])\n",
        "arr2 = np.array([[5,6],[7,8]])\n",
        "\n",
        "arr1 + arr2 "
      ],
      "metadata": {
        "colab": {
          "base_uri": "https://localhost:8080/"
        },
        "id": "-ij5kxohBKFa",
        "outputId": "849dd323-5ccb-475b-b18f-220e9f6e32d3"
      },
      "execution_count": 21,
      "outputs": [
        {
          "output_type": "execute_result",
          "data": {
            "text/plain": [
              "array([[ 6,  8],\n",
              "       [10, 12]])"
            ]
          },
          "metadata": {},
          "execution_count": 21
        }
      ]
    },
    {
      "cell_type": "code",
      "source": [
        "np.add(arr1,arr2) #명령으로 덧셈하기 "
      ],
      "metadata": {
        "colab": {
          "base_uri": "https://localhost:8080/"
        },
        "id": "xT-4-WffChHp",
        "outputId": "667eb7bd-8dec-41e3-a067-a74f147484d1"
      },
      "execution_count": 22,
      "outputs": [
        {
          "output_type": "execute_result",
          "data": {
            "text/plain": [
              "array([[ 6,  8],\n",
              "       [10, 12]])"
            ]
          },
          "metadata": {},
          "execution_count": 22
        }
      ]
    },
    {
      "cell_type": "code",
      "source": [
        "arr1 * arr2 "
      ],
      "metadata": {
        "colab": {
          "base_uri": "https://localhost:8080/"
        },
        "id": "uGQ86djmCla7",
        "outputId": "066563c4-ad02-42bb-af1b-678cd999d512"
      },
      "execution_count": 23,
      "outputs": [
        {
          "output_type": "execute_result",
          "data": {
            "text/plain": [
              "array([[ 5, 12],\n",
              "       [21, 32]])"
            ]
          },
          "metadata": {},
          "execution_count": 23
        }
      ]
    },
    {
      "cell_type": "code",
      "source": [
        "np.multiply(arr1, arr2) "
      ],
      "metadata": {
        "colab": {
          "base_uri": "https://localhost:8080/"
        },
        "id": "rc4n8_MbC4F9",
        "outputId": "8ced3ee4-b4d8-4049-b9bb-b3fd0787ac10"
      },
      "execution_count": 24,
      "outputs": [
        {
          "output_type": "execute_result",
          "data": {
            "text/plain": [
              "array([[ 5, 12],\n",
              "       [21, 32]])"
            ]
          },
          "metadata": {},
          "execution_count": 24
        }
      ]
    },
    {
      "cell_type": "markdown",
      "source": [
        "슬라이싱 \n",
        "\n",
        "슬라이싱한 배열은 원본 배열의 뷰이다. 슬라이싱한 배열을 수정하면 원본 배열도 바뀐다.\n",
        "\n",
        "뷰가 아닌 새로운 배열을 생성하려면 arr[:2,1:3].copy() 와 같은 함수를 사용해야 한다. "
      ],
      "metadata": {
        "id": "ODPvSnOZB0R_"
      }
    },
    {
      "cell_type": "code",
      "source": [
        "arr = np.array([[1,2,3],[4,5,6],[7,8,9]])\n",
        "print(arr)\n",
        "\n",
        "arr_1 = arr[:2,1:3]\n",
        "print(arr_1)"
      ],
      "metadata": {
        "colab": {
          "base_uri": "https://localhost:8080/"
        },
        "id": "eyfRMNQdCrAm",
        "outputId": "f93ef194-5b41-4bb1-f9ce-40588404b5b3"
      },
      "execution_count": 30,
      "outputs": [
        {
          "output_type": "stream",
          "name": "stdout",
          "text": [
            "[[1 2 3]\n",
            " [4 5 6]\n",
            " [7 8 9]]\n",
            "[[2 3]\n",
            " [5 6]]\n"
          ]
        }
      ]
    },
    {
      "cell_type": "code",
      "source": [
        "arr.ndim"
      ],
      "metadata": {
        "colab": {
          "base_uri": "https://localhost:8080/"
        },
        "id": "tWggO5LRDP5t",
        "outputId": "312e643a-c603-42c5-af60-cfda6fe87b99"
      },
      "execution_count": 26,
      "outputs": [
        {
          "output_type": "execute_result",
          "data": {
            "text/plain": [
              "2"
            ]
          },
          "metadata": {},
          "execution_count": 26
        }
      ]
    },
    {
      "cell_type": "code",
      "source": [
        "arr[0,2]"
      ],
      "metadata": {
        "colab": {
          "base_uri": "https://localhost:8080/"
        },
        "id": "WAyteedZDfoM",
        "outputId": "9288c625-01c8-4704-ec55-65233d78f4b1"
      },
      "execution_count": 27,
      "outputs": [
        {
          "output_type": "execute_result",
          "data": {
            "text/plain": [
              "3"
            ]
          },
          "metadata": {},
          "execution_count": 27
        }
      ]
    },
    {
      "cell_type": "code",
      "source": [
        "arr[:2,1:-1]"
      ],
      "metadata": {
        "colab": {
          "base_uri": "https://localhost:8080/"
        },
        "id": "y7BWLBjkIFrV",
        "outputId": "93550b15-5aef-4385-ea72-d0b36840f282"
      },
      "execution_count": 28,
      "outputs": [
        {
          "output_type": "execute_result",
          "data": {
            "text/plain": [
              "array([[2],\n",
              "       [5]])"
            ]
          },
          "metadata": {},
          "execution_count": 28
        }
      ]
    },
    {
      "cell_type": "code",
      "source": [
        "arr[[0,1,2],[2,0,1]] #[0,1,2]는 row부분 결정, [2,0,1]은 column부분 결정"
      ],
      "metadata": {
        "colab": {
          "base_uri": "https://localhost:8080/"
        },
        "id": "37TTahgHIX2w",
        "outputId": "c70e1edb-0c19-49eb-ac6b-4b383b9d480e"
      },
      "execution_count": 29,
      "outputs": [
        {
          "output_type": "execute_result",
          "data": {
            "text/plain": [
              "array([3, 4, 8])"
            ]
          },
          "metadata": {},
          "execution_count": 29
        }
      ]
    },
    {
      "cell_type": "code",
      "source": [
        "idx = arr > 3 \n",
        "print(idx) "
      ],
      "metadata": {
        "colab": {
          "base_uri": "https://localhost:8080/"
        },
        "id": "cRikOSQxI71k",
        "outputId": "f6ff406d-14ea-4ed8-ad81-cb888eb36fcb"
      },
      "execution_count": 31,
      "outputs": [
        {
          "output_type": "stream",
          "name": "stdout",
          "text": [
            "[[False False False]\n",
            " [ True  True  True]\n",
            " [ True  True  True]]\n"
          ]
        }
      ]
    },
    {
      "cell_type": "code",
      "source": [
        "arr[idx] "
      ],
      "metadata": {
        "colab": {
          "base_uri": "https://localhost:8080/"
        },
        "id": "dWKwdP1uJYk8",
        "outputId": "a763fb85-4ed2-4a0e-c9f1-7887d5a772c3"
      },
      "execution_count": 32,
      "outputs": [
        {
          "output_type": "execute_result",
          "data": {
            "text/plain": [
              "array([4, 5, 6, 7, 8, 9])"
            ]
          },
          "metadata": {},
          "execution_count": 32
        }
      ]
    },
    {
      "cell_type": "markdown",
      "source": [
        "### wine quality 데이터 불러오기\n",
        "\n",
        "np라이브러리 안에 loadtxt함수를 실행하여 텍스트 파일을 불러올 수 있음. \n",
        "\n",
        "nupmy로 데이터를 가져온 후에는 sum, mean 과 같은 일반적인 통계함수를 사용할 수 있음. "
      ],
      "metadata": {
        "id": "UkDrcaPDO5mn"
      }
    },
    {
      "cell_type": "code",
      "source": [
        "redwine = np.loadtxt(fname = 'winequality-red.csv', delimiter=';', skiprows = 1 ) # 구별자는 세미콜론, 첫 줄은 헤더라서 무시하고 넘어가기 위해 skiprows.\n",
        "print(redwine)"
      ],
      "metadata": {
        "colab": {
          "base_uri": "https://localhost:8080/"
        },
        "id": "Nt-_i2ZNJ52m",
        "outputId": "0aab987c-b5f7-4d46-8966-940cd35d5d66"
      },
      "execution_count": 39,
      "outputs": [
        {
          "output_type": "stream",
          "name": "stdout",
          "text": [
            "[[ 7.4    0.7    0.    ...  0.56   9.4    5.   ]\n",
            " [ 7.8    0.88   0.    ...  0.68   9.8    5.   ]\n",
            " [ 7.8    0.76   0.04  ...  0.65   9.8    5.   ]\n",
            " ...\n",
            " [ 6.3    0.51   0.13  ...  0.75  11.     6.   ]\n",
            " [ 5.9    0.645  0.12  ...  0.71  10.2    5.   ]\n",
            " [ 6.     0.31   0.47  ...  0.66  11.     6.   ]]\n"
          ]
        }
      ]
    },
    {
      "cell_type": "markdown",
      "source": [
        "합계 "
      ],
      "metadata": {
        "id": "DSCdn0QYOCcq"
      }
    },
    {
      "cell_type": "code",
      "source": [
        "print(redwine.sum()) # 전체 데이터에 대한 합 "
      ],
      "metadata": {
        "colab": {
          "base_uri": "https://localhost:8080/"
        },
        "id": "7-RJjt0WNcPL",
        "outputId": "0e1d3123-30f2-4f22-bea5-f56dd714a933"
      },
      "execution_count": 41,
      "outputs": [
        {
          "output_type": "stream",
          "name": "stdout",
          "text": [
            "152084.78194\n"
          ]
        }
      ]
    },
    {
      "cell_type": "code",
      "source": [
        "print(redwine.mean())"
      ],
      "metadata": {
        "colab": {
          "base_uri": "https://localhost:8080/"
        },
        "id": "0-hurYOIOAcw",
        "outputId": "234e770c-0dbd-43fe-d3a6-b65a5b3a956a"
      },
      "execution_count": 42,
      "outputs": [
        {
          "output_type": "stream",
          "name": "stdout",
          "text": [
            "7.926036165311652\n"
          ]
        }
      ]
    },
    {
      "cell_type": "code",
      "source": [
        "redwine.shape"
      ],
      "metadata": {
        "colab": {
          "base_uri": "https://localhost:8080/"
        },
        "id": "YGM-uLgCONEa",
        "outputId": "da154aad-af37-47d5-a817-4cd7f3142dbe"
      },
      "execution_count": 43,
      "outputs": [
        {
          "output_type": "execute_result",
          "data": {
            "text/plain": [
              "(1599, 12)"
            ]
          },
          "metadata": {},
          "execution_count": 43
        }
      ]
    },
    {
      "cell_type": "markdown",
      "source": [
        "축 "
      ],
      "metadata": {
        "id": "OrS0TgKqPM6e"
      }
    },
    {
      "cell_type": "code",
      "source": [
        "print(redwine.mean(axis=0)) # 0이 기준이니까 column끼리 더함. "
      ],
      "metadata": {
        "colab": {
          "base_uri": "https://localhost:8080/"
        },
        "id": "015O4srMORt_",
        "outputId": "98b5575d-3c24-44fd-8d7b-b7faf722a31e"
      },
      "execution_count": 44,
      "outputs": [
        {
          "output_type": "stream",
          "name": "stdout",
          "text": [
            "[ 8.31963727  0.52782051  0.27097561  2.5388055   0.08746654 15.87492183\n",
            " 46.46779237  0.99674668  3.3111132   0.65814884 10.42298311  5.63602251]\n"
          ]
        }
      ]
    },
    {
      "cell_type": "code",
      "source": [
        "print(redwine.mean(axis=1))"
      ],
      "metadata": {
        "colab": {
          "base_uri": "https://localhost:8080/"
        },
        "id": "8ZVtbbOfPN2k",
        "outputId": "1cc51767-f1d6-44c8-8852-88987d7a0a4c"
      },
      "execution_count": 45,
      "outputs": [
        {
          "output_type": "stream",
          "name": "stdout",
          "text": [
            "[ 6.21198333 10.25456667  8.30825    ...  8.37347833  8.76795583\n",
            "  7.7077075 ]\n"
          ]
        }
      ]
    },
    {
      "cell_type": "markdown",
      "source": [
        "슬라이싱 "
      ],
      "metadata": {
        "id": "3RfVb_87QENR"
      }
    },
    {
      "cell_type": "code",
      "source": [
        "redwine[:, 0] # 1번째 컬럼 "
      ],
      "metadata": {
        "colab": {
          "base_uri": "https://localhost:8080/"
        },
        "id": "U8SBusqrPRza",
        "outputId": "98aec711-a177-4893-eb44-cf0828d2c810"
      },
      "execution_count": 47,
      "outputs": [
        {
          "output_type": "execute_result",
          "data": {
            "text/plain": [
              "array([7.4, 7.8, 7.8, ..., 6.3, 5.9, 6. ])"
            ]
          },
          "metadata": {},
          "execution_count": 47
        }
      ]
    },
    {
      "cell_type": "code",
      "source": [
        "redwine[:, 0].mean() # 1번째 컬럼 "
      ],
      "metadata": {
        "colab": {
          "base_uri": "https://localhost:8080/"
        },
        "id": "lMbRumk3QBiM",
        "outputId": "063fc9b3-5cd9-4e2b-c307-146e5fbae99a"
      },
      "execution_count": 48,
      "outputs": [
        {
          "output_type": "execute_result",
          "data": {
            "text/plain": [
              "8.31963727329581"
            ]
          },
          "metadata": {},
          "execution_count": 48
        }
      ]
    },
    {
      "cell_type": "code",
      "source": [
        "redwine.max(axis = 0)"
      ],
      "metadata": {
        "colab": {
          "base_uri": "https://localhost:8080/"
        },
        "id": "TatOuoHFQl44",
        "outputId": "bab54855-31ed-4746-e43c-3f286eea291c"
      },
      "execution_count": 50,
      "outputs": [
        {
          "output_type": "execute_result",
          "data": {
            "text/plain": [
              "array([ 15.9    ,   1.58   ,   1.     ,  15.5    ,   0.611  ,  72.     ,\n",
              "       289.     ,   1.00369,   4.01   ,   2.     ,  14.9    ,   8.     ])"
            ]
          },
          "metadata": {},
          "execution_count": 50
        }
      ]
    },
    {
      "cell_type": "code",
      "source": [],
      "metadata": {
        "id": "QPPrCuZyQ3QI"
      },
      "execution_count": null,
      "outputs": []
    }
  ]
}