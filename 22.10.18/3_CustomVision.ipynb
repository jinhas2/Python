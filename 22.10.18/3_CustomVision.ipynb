{
  "nbformat": 4,
  "nbformat_minor": 0,
  "metadata": {
    "colab": {
      "provenance": [],
      "collapsed_sections": []
    },
    "kernelspec": {
      "name": "python3",
      "display_name": "Python 3"
    },
    "language_info": {
      "name": "python"
    }
  },
  "cells": [
    {
      "cell_type": "code",
      "execution_count": 1,
      "metadata": {
        "colab": {
          "base_uri": "https://localhost:8080/"
        },
        "id": "wMPR5G5T3nGo",
        "outputId": "4276af68-192f-4c3c-91fa-ea86db320e46"
      },
      "outputs": [
        {
          "output_type": "stream",
          "name": "stdout",
          "text": [
            "Looking in indexes: https://pypi.org/simple, https://us-python.pkg.dev/colab-wheels/public/simple/\n",
            "Collecting azure-cognitiveservices-vision-customvision\n",
            "  Downloading azure_cognitiveservices_vision_customvision-3.1.0-py2.py3-none-any.whl (62 kB)\n",
            "\u001b[K     |████████████████████████████████| 62 kB 430 kB/s \n",
            "\u001b[?25hCollecting azure-common~=1.1\n",
            "  Downloading azure_common-1.1.28-py2.py3-none-any.whl (14 kB)\n",
            "Collecting msrest>=0.5.0\n",
            "  Downloading msrest-0.7.1-py3-none-any.whl (85 kB)\n",
            "\u001b[K     |████████████████████████████████| 85 kB 4.3 MB/s \n",
            "\u001b[?25hCollecting isodate>=0.6.0\n",
            "  Downloading isodate-0.6.1-py2.py3-none-any.whl (41 kB)\n",
            "\u001b[K     |████████████████████████████████| 41 kB 625 kB/s \n",
            "\u001b[?25hRequirement already satisfied: certifi>=2017.4.17 in /usr/local/lib/python3.7/dist-packages (from msrest>=0.5.0->azure-cognitiveservices-vision-customvision) (2022.9.24)\n",
            "Requirement already satisfied: requests-oauthlib>=0.5.0 in /usr/local/lib/python3.7/dist-packages (from msrest>=0.5.0->azure-cognitiveservices-vision-customvision) (1.3.1)\n",
            "Collecting azure-core>=1.24.0\n",
            "  Downloading azure_core-1.26.0-py3-none-any.whl (178 kB)\n",
            "\u001b[K     |████████████████████████████████| 178 kB 61.9 MB/s \n",
            "\u001b[?25hRequirement already satisfied: requests~=2.16 in /usr/local/lib/python3.7/dist-packages (from msrest>=0.5.0->azure-cognitiveservices-vision-customvision) (2.23.0)\n",
            "Requirement already satisfied: six>=1.11.0 in /usr/local/lib/python3.7/dist-packages (from azure-core>=1.24.0->msrest>=0.5.0->azure-cognitiveservices-vision-customvision) (1.15.0)\n",
            "Requirement already satisfied: typing-extensions>=4.0.1 in /usr/local/lib/python3.7/dist-packages (from azure-core>=1.24.0->msrest>=0.5.0->azure-cognitiveservices-vision-customvision) (4.1.1)\n",
            "Requirement already satisfied: urllib3!=1.25.0,!=1.25.1,<1.26,>=1.21.1 in /usr/local/lib/python3.7/dist-packages (from requests~=2.16->msrest>=0.5.0->azure-cognitiveservices-vision-customvision) (1.24.3)\n",
            "Requirement already satisfied: idna<3,>=2.5 in /usr/local/lib/python3.7/dist-packages (from requests~=2.16->msrest>=0.5.0->azure-cognitiveservices-vision-customvision) (2.10)\n",
            "Requirement already satisfied: chardet<4,>=3.0.2 in /usr/local/lib/python3.7/dist-packages (from requests~=2.16->msrest>=0.5.0->azure-cognitiveservices-vision-customvision) (3.0.4)\n",
            "Requirement already satisfied: oauthlib>=3.0.0 in /usr/local/lib/python3.7/dist-packages (from requests-oauthlib>=0.5.0->msrest>=0.5.0->azure-cognitiveservices-vision-customvision) (3.2.1)\n",
            "Installing collected packages: isodate, azure-core, msrest, azure-common, azure-cognitiveservices-vision-customvision\n",
            "Successfully installed azure-cognitiveservices-vision-customvision-3.1.0 azure-common-1.1.28 azure-core-1.26.0 isodate-0.6.1 msrest-0.7.1\n"
          ]
        }
      ],
      "source": [
        "!pip install azure-cognitiveservices-vision-customvision"
      ]
    },
    {
      "cell_type": "code",
      "source": [
        "from azure.cognitiveservices.vision.customvision.training import CustomVisionTrainingClient\n",
        "from azure.cognitiveservices.vision.customvision.training.models import ImageFileCreateEntry\n",
        "from azure.cognitiveservices.vision.customvision.training.models import ImageFileCreateBatch, ImageFileCreateEntry, Region\n",
        "from msrest.authentication import ApiKeyCredentials\n",
        "import os, time, uuid"
      ],
      "metadata": {
        "id": "Qq3_phPd6Fxp"
      },
      "execution_count": 2,
      "outputs": []
    },
    {
      "cell_type": "code",
      "source": [
        "ENDPOINT_Training = 'https://labuser5custom.cognitiveservices.azure.com/'\n",
        "ENDPOINT_Prediction = 'https://labuser5custom-prediction.cognitiveservices.azure.com/'\n",
        "\n",
        "training_key = '7e7f4ec406c148f2b9b033326d44e9eb' #azure에서 찾는다. \n",
        "prediction_key = '2c71e1b6470c4f9b8c7ecae33943d5ca' \n",
        "predition_resource_id = '/subscriptions/7ae06d59-97e1-4a36-bbfe-efb081b9b03b/resourceGroups/RG5/providers/Microsoft.CognitiveServices/accounts/labuser5custom' "
      ],
      "metadata": {
        "id": "6gLsohCF6l_Q"
      },
      "execution_count": 4,
      "outputs": []
    },
    {
      "cell_type": "code",
      "source": [
        "credentials = ApiKeyCredentials(in_headers={\"Training-key\": training_key})\n",
        "trainer = CustomVisionTrainingClient(ENDPOINT_Training, credentials)"
      ],
      "metadata": {
        "id": "l7EfXVTf_hC7"
      },
      "execution_count": 5,
      "outputs": []
    },
    {
      "cell_type": "code",
      "source": [
        "print (\"Creating project...\")\n",
        "project = trainer.create_project(\"Labuser5 Project\")"
      ],
      "metadata": {
        "colab": {
          "base_uri": "https://localhost:8080/"
        },
        "id": "vL40ZyvF_0zK",
        "outputId": "491044e7-4fa0-4dbb-98bc-edca223b655a"
      },
      "execution_count": 6,
      "outputs": [
        {
          "output_type": "stream",
          "name": "stdout",
          "text": [
            "Creating project...\n"
          ]
        }
      ]
    },
    {
      "cell_type": "code",
      "source": [
        "Jajangmyeon_tag = trainer.create_tag(project.id, \"Jajangmyeon\")\n",
        "Champon_tag = trainer.create_tag(project.id, \"Champon\")\n",
        "Tangsuyug_tag = trainer.create_tag(project.id, \"Tangsuyug\")"
      ],
      "metadata": {
        "id": "6WhVMf6iBsPj"
      },
      "execution_count": 7,
      "outputs": []
    },
    {
      "cell_type": "code",
      "source": [
        "#training 하기\n",
        "import time "
      ],
      "metadata": {
        "id": "xA5EsMw1CLOC"
      },
      "execution_count": 8,
      "outputs": []
    },
    {
      "cell_type": "code",
      "source": [
        "print('Training....')\n",
        "iteration = trainer.train_project(project.id)\n",
        "\n",
        "while (iteration.status != 'Completed'): #학습이 끝난 상태가 아니면 계속 반복 \n",
        "  iteration = trainer.get_iteration(project.id, iteration.id)\n",
        "  print(\"Training status : \" + iteration.status) \n",
        "\n",
        "  time.sleep(5) #2초마다 한 번씩  \n",
        "\n",
        "print('Done! ') #학습 완료 "
      ],
      "metadata": {
        "colab": {
          "base_uri": "https://localhost:8080/"
        },
        "id": "thn08vD9D2M1",
        "outputId": "c2988253-3086-4517-f0f8-f6cb8e4b4224"
      },
      "execution_count": 9,
      "outputs": [
        {
          "output_type": "stream",
          "name": "stdout",
          "text": [
            "Training....\n",
            "Training status : Training\n",
            "Training status : Training\n",
            "Training status : Training\n",
            "Training status : Training\n",
            "Training status : Training\n",
            "Training status : Training\n",
            "Training status : Training\n",
            "Training status : Training\n",
            "Training status : Training\n",
            "Training status : Training\n",
            "Training status : Training\n",
            "Training status : Training\n",
            "Training status : Training\n",
            "Training status : Training\n",
            "Training status : Training\n",
            "Training status : Training\n",
            "Training status : Training\n",
            "Training status : Training\n",
            "Training status : Training\n",
            "Training status : Training\n",
            "Training status : Training\n",
            "Training status : Training\n",
            "Training status : Training\n",
            "Training status : Training\n",
            "Training status : Training\n",
            "Training status : Training\n",
            "Training status : Training\n",
            "Training status : Training\n",
            "Training status : Training\n",
            "Training status : Training\n",
            "Training status : Training\n",
            "Training status : Training\n",
            "Training status : Training\n",
            "Training status : Training\n",
            "Training status : Training\n",
            "Training status : Training\n",
            "Training status : Training\n",
            "Training status : Training\n",
            "Training status : Training\n",
            "Training status : Training\n",
            "Training status : Training\n",
            "Training status : Training\n",
            "Training status : Training\n",
            "Training status : Training\n",
            "Training status : Training\n",
            "Training status : Training\n",
            "Training status : Training\n",
            "Training status : Training\n",
            "Training status : Training\n",
            "Training status : Training\n",
            "Training status : Training\n",
            "Training status : Training\n",
            "Training status : Training\n",
            "Training status : Training\n",
            "Training status : Training\n",
            "Training status : Training\n",
            "Training status : Training\n",
            "Training status : Training\n",
            "Training status : Training\n",
            "Training status : Training\n",
            "Training status : Training\n",
            "Training status : Training\n",
            "Training status : Training\n",
            "Training status : Training\n",
            "Training status : Training\n",
            "Training status : Training\n",
            "Training status : Training\n",
            "Training status : Training\n",
            "Training status : Training\n",
            "Training status : Training\n",
            "Training status : Training\n",
            "Training status : Training\n",
            "Training status : Training\n",
            "Training status : Training\n",
            "Training status : Training\n",
            "Training status : Training\n",
            "Training status : Training\n",
            "Training status : Training\n",
            "Training status : Training\n",
            "Training status : Training\n",
            "Training status : Training\n",
            "Training status : Training\n",
            "Training status : Training\n",
            "Training status : Training\n",
            "Training status : Training\n",
            "Training status : Training\n",
            "Training status : Training\n",
            "Training status : Training\n",
            "Training status : Training\n",
            "Training status : Training\n",
            "Training status : Training\n",
            "Training status : Training\n",
            "Training status : Training\n",
            "Training status : Training\n",
            "Training status : Training\n",
            "Training status : Training\n",
            "Training status : Training\n",
            "Training status : Training\n",
            "Training status : Training\n",
            "Training status : Training\n",
            "Training status : Training\n",
            "Training status : Training\n",
            "Training status : Training\n",
            "Training status : Training\n",
            "Training status : Training\n",
            "Training status : Training\n",
            "Training status : Training\n",
            "Training status : Training\n",
            "Training status : Training\n",
            "Training status : Training\n",
            "Training status : Training\n",
            "Training status : Training\n",
            "Training status : Training\n",
            "Training status : Training\n",
            "Training status : Training\n",
            "Training status : Training\n",
            "Training status : Training\n",
            "Training status : Training\n",
            "Training status : Training\n",
            "Training status : Training\n",
            "Training status : Training\n",
            "Training status : Training\n",
            "Training status : Training\n",
            "Training status : Training\n",
            "Training status : Completed\n",
            "Done! \n"
          ]
        }
      ]
    },
    {
      "cell_type": "markdown",
      "source": [
        "예측 "
      ],
      "metadata": {
        "id": "Em2oOvSNcZ_b"
      }
    },
    {
      "cell_type": "code",
      "source": [
        "from azure.cognitiveservices.vision.customvision.prediction import CustomVisionPredictionClient"
      ],
      "metadata": {
        "id": "OwqHa5EuGyu1"
      },
      "execution_count": 10,
      "outputs": []
    },
    {
      "cell_type": "code",
      "source": [
        "prediction_credentials = ApiKeyCredentials(in_headers={\"Prediction-key\":prediction_key})\n",
        "predictor = CustomVisionPredictionClient(ENDPOINT_Prediction, prediction_credentials) "
      ],
      "metadata": {
        "id": "5YAj4LX7cfGC"
      },
      "execution_count": 11,
      "outputs": []
    },
    {
      "cell_type": "code",
      "source": [
        "# 새로운 이미지 \n",
        "target_image_url = 'https://w.namu.la/s/d4c53737b61fec8cf0fa02206d85a5022fc5465593f2e0190648f7c5911acd836a5f7a1db0f19f0136ec1c178d782465a9455b31d178b79df5133fc6b493a41f58f5409dffec9bf6f2a7ce9f6135565b06d11f8051438690a86b0dc191d9da1d'\n",
        "result = predictor.classify_image_url(project.id, 'greatwall', target_image_url) "
      ],
      "metadata": {
        "id": "H9fTc1ZjdTc0"
      },
      "execution_count": 12,
      "outputs": []
    },
    {
      "cell_type": "code",
      "source": [
        "for prediction in result.predictions :\n",
        "  print('\\t' + prediction.tag_name + \": {0: .2f}%\".format(prediction.probability*100)) \n",
        "  # print('\\t' + prediction.tag_name + f\": {prediction.probability*100: .2f}%\") \n",
        "  "
      ],
      "metadata": {
        "id": "8eDlL_UogOd8",
        "colab": {
          "base_uri": "https://localhost:8080/"
        },
        "outputId": "ac960e9a-9719-4a1d-8b57-852f2e71f2d4"
      },
      "execution_count": 17,
      "outputs": [
        {
          "output_type": "stream",
          "name": "stdout",
          "text": [
            "\tJajangmyeon:  99.79%\n",
            "\tChampon:  0.26%\n",
            "\tTangsuyug:  0.06%\n"
          ]
        }
      ]
    },
    {
      "cell_type": "code",
      "source": [],
      "metadata": {
        "id": "dWwM6JB0g5zO"
      },
      "execution_count": null,
      "outputs": []
    }
  ]
}