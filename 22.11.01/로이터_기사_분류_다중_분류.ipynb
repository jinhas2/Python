{
  "nbformat": 4,
  "nbformat_minor": 0,
  "metadata": {
    "colab": {
      "provenance": [],
      "collapsed_sections": []
    },
    "kernelspec": {
      "name": "python3",
      "display_name": "Python 3"
    },
    "language_info": {
      "name": "python"
    }
  },
  "cells": [
    {
      "cell_type": "code",
      "execution_count": 15,
      "metadata": {
        "id": "xxfzTPHWYLVo"
      },
      "outputs": [],
      "source": [
        "import keras\n",
        "import numpy as np\n",
        "import matplotlib.pyplot as plt"
      ]
    },
    {
      "cell_type": "markdown",
      "source": [
        "로이터 기사 데이터 셋을 로딩합니다."
      ],
      "metadata": {
        "id": "UDwTvZgLYfAw"
      }
    },
    {
      "cell_type": "code",
      "source": [
        "from keras.datasets import reuters "
      ],
      "metadata": {
        "id": "tLLB_xLLYXnz"
      },
      "execution_count": 16,
      "outputs": []
    },
    {
      "cell_type": "code",
      "source": [
        "(train_data, train_labels),(test_data, test_labels) = reuters.load_data(num_words=10000) #자주 사용하는 단어 10000개만 불러온다. "
      ],
      "metadata": {
        "id": "EBoRCUgzYlYS"
      },
      "execution_count": 30,
      "outputs": []
    },
    {
      "cell_type": "code",
      "source": [
        "train_data.shape"
      ],
      "metadata": {
        "colab": {
          "base_uri": "https://localhost:8080/"
        },
        "id": "n4-alk-_ZLQK",
        "outputId": "c1ce3bfa-f7e4-435d-abd7-5cb18752844d"
      },
      "execution_count": 18,
      "outputs": [
        {
          "output_type": "execute_result",
          "data": {
            "text/plain": [
              "(8982,)"
            ]
          },
          "metadata": {},
          "execution_count": 18
        }
      ]
    },
    {
      "cell_type": "code",
      "source": [
        "test_data.shape"
      ],
      "metadata": {
        "colab": {
          "base_uri": "https://localhost:8080/"
        },
        "id": "WE3FjDbXZYgH",
        "outputId": "413baa31-e82d-4716-dbb8-07a6f96ef646"
      },
      "execution_count": 19,
      "outputs": [
        {
          "output_type": "execute_result",
          "data": {
            "text/plain": [
              "(2246,)"
            ]
          },
          "metadata": {},
          "execution_count": 19
        }
      ]
    },
    {
      "cell_type": "code",
      "source": [
        "train_data[0], train_labels[0]"
      ],
      "metadata": {
        "colab": {
          "base_uri": "https://localhost:8080/"
        },
        "id": "2pA3fnvKZZ_p",
        "outputId": "e395aff5-2ee2-49cf-97ad-dc962b400b2c"
      },
      "execution_count": 20,
      "outputs": [
        {
          "output_type": "execute_result",
          "data": {
            "text/plain": [
              "([1,\n",
              "  2,\n",
              "  2,\n",
              "  8,\n",
              "  43,\n",
              "  10,\n",
              "  447,\n",
              "  5,\n",
              "  25,\n",
              "  207,\n",
              "  270,\n",
              "  5,\n",
              "  3095,\n",
              "  111,\n",
              "  16,\n",
              "  369,\n",
              "  186,\n",
              "  90,\n",
              "  67,\n",
              "  7,\n",
              "  89,\n",
              "  5,\n",
              "  19,\n",
              "  102,\n",
              "  6,\n",
              "  19,\n",
              "  124,\n",
              "  15,\n",
              "  90,\n",
              "  67,\n",
              "  84,\n",
              "  22,\n",
              "  482,\n",
              "  26,\n",
              "  7,\n",
              "  48,\n",
              "  4,\n",
              "  49,\n",
              "  8,\n",
              "  864,\n",
              "  39,\n",
              "  209,\n",
              "  154,\n",
              "  6,\n",
              "  151,\n",
              "  6,\n",
              "  83,\n",
              "  11,\n",
              "  15,\n",
              "  22,\n",
              "  155,\n",
              "  11,\n",
              "  15,\n",
              "  7,\n",
              "  48,\n",
              "  9,\n",
              "  4579,\n",
              "  1005,\n",
              "  504,\n",
              "  6,\n",
              "  258,\n",
              "  6,\n",
              "  272,\n",
              "  11,\n",
              "  15,\n",
              "  22,\n",
              "  134,\n",
              "  44,\n",
              "  11,\n",
              "  15,\n",
              "  16,\n",
              "  8,\n",
              "  197,\n",
              "  1245,\n",
              "  90,\n",
              "  67,\n",
              "  52,\n",
              "  29,\n",
              "  209,\n",
              "  30,\n",
              "  32,\n",
              "  132,\n",
              "  6,\n",
              "  109,\n",
              "  15,\n",
              "  17,\n",
              "  12],\n",
              " 3)"
            ]
          },
          "metadata": {},
          "execution_count": 20
        }
      ]
    },
    {
      "cell_type": "code",
      "source": [
        "word_index = reuters.get_word_index()\n",
        "reverse_word_index = dict([(value, key) for (key, value) in word_index.items()])\n",
        "\n",
        "decoded_newswire = ' '.join([reverse_word_index.get(i-3,'?') for i in train_data[0]])"
      ],
      "metadata": {
        "id": "gRCMhVOeZbNW"
      },
      "execution_count": 31,
      "outputs": []
    },
    {
      "cell_type": "code",
      "source": [
        "decoded_newswire"
      ],
      "metadata": {
        "colab": {
          "base_uri": "https://localhost:8080/",
          "height": 72
        },
        "id": "bO0GZvhGaSVf",
        "outputId": "e13b3e5e-0555-40f9-9e9a-1e46ae959969"
      },
      "execution_count": 32,
      "outputs": [
        {
          "output_type": "execute_result",
          "data": {
            "text/plain": [
              "'? ? ? said as a result of its december acquisition of space co it expects earnings per share in 1987 of 1 15 to 1 30 dlrs per share up from 70 cts in 1986 the company said pretax net should rise to nine to 10 mln dlrs from six mln dlrs in 1986 and rental operation revenues to 19 to 22 mln dlrs from 12 5 mln dlrs it said cash flow per share this year should be 2 50 to three dlrs reuter 3'"
            ],
            "application/vnd.google.colaboratory.intrinsic+json": {
              "type": "string"
            }
          },
          "metadata": {},
          "execution_count": 32
        }
      ]
    },
    {
      "cell_type": "code",
      "source": [
        "train_labels[0] "
      ],
      "metadata": {
        "colab": {
          "base_uri": "https://localhost:8080/"
        },
        "id": "G8jn0hrTagjX",
        "outputId": "512dc91c-f43c-4168-a142-f0738583aa62"
      },
      "execution_count": 33,
      "outputs": [
        {
          "output_type": "execute_result",
          "data": {
            "text/plain": [
              "3"
            ]
          },
          "metadata": {},
          "execution_count": 33
        }
      ]
    },
    {
      "cell_type": "markdown",
      "source": [
        "### 데이터의 준비 "
      ],
      "metadata": {
        "id": "_QQ-aQhUaoow"
      }
    },
    {
      "cell_type": "code",
      "source": [
        "def vectorize_sequences(sequences, dimension=10000):\n",
        "  \n",
        "  results = np.zeros((len(sequences), dimension))\n",
        "\n",
        "  for i, sequence in enumerate(sequences):\n",
        "    results[i, sequence] = 1 \n",
        "\n",
        "  return results \n",
        "\n",
        "# 데이터의 변환 \n",
        "x_train = vectorize_sequences(train_data)\n",
        "x_test = vectorize_sequences(test_data)\n"
      ],
      "metadata": {
        "id": "qu1pwsmJajYG"
      },
      "execution_count": 34,
      "outputs": []
    },
    {
      "cell_type": "code",
      "source": [
        "train_labels"
      ],
      "metadata": {
        "colab": {
          "base_uri": "https://localhost:8080/"
        },
        "id": "4wO7XLM6b0kc",
        "outputId": "74ec1775-f2e0-4ab0-bd36-2cb8c706ba03"
      },
      "execution_count": 35,
      "outputs": [
        {
          "output_type": "execute_result",
          "data": {
            "text/plain": [
              "array([ 3,  4,  3, ..., 25,  3, 25])"
            ]
          },
          "metadata": {},
          "execution_count": 35
        }
      ]
    },
    {
      "cell_type": "markdown",
      "source": [
        "### 라벨 데이터의 엔코딩 "
      ],
      "metadata": {
        "id": "lqesnEpFcP2P"
      }
    },
    {
      "cell_type": "code",
      "source": [
        "def to_one_hot(labels, dimension=46): #토픽의 개수가 46 \n",
        "  results = np.zeros((len(labels),dimension))\n",
        "\n",
        "  for i, sequence in enumerate(labels):\n",
        "    results[i, sequence] = 1\n",
        "\n",
        "  return results\n",
        "\n",
        "one_hot_train_labels = to_one_hot(train_labels)\n",
        "one_hot_test_labels = to_one_hot(test_labels)"
      ],
      "metadata": {
        "id": "qYD033OIb-51"
      },
      "execution_count": 36,
      "outputs": []
    },
    {
      "cell_type": "code",
      "source": [
        "# cateogorical 데이터로 변환\n",
        "from keras.utils.np_utils import to_categorical\n",
        "\n",
        "one_hot_train_labels = to_categorical(train_labels)\n",
        "one_hot_test_labels = to_categorical(test_labels)"
      ],
      "metadata": {
        "id": "JbqNsjdrw5DK"
      },
      "execution_count": 37,
      "outputs": []
    },
    {
      "cell_type": "code",
      "source": [
        "# 신경망을 구성합니다. \n",
        "\n",
        "from keras import models\n",
        "from keras import layers\n",
        "\n",
        "model = models.Sequential()\n",
        "model.add(layers.Dense(64, activation='relu', input_shape=(10000,)))\n",
        "model.add(layers.Dense(64, activation='relu'))\n",
        "model.add(layers.Dense(46, activation='softmax'))"
      ],
      "metadata": {
        "id": "cszPEy_5w5iD"
      },
      "execution_count": 38,
      "outputs": []
    },
    {
      "cell_type": "code",
      "source": [
        " model.compile(optimizer='rmsprop',\n",
        "               loss='categorical_crossentropy',\n",
        "               metrics=['accuracy'])"
      ],
      "metadata": {
        "id": "1U8uM17IxEw6"
      },
      "execution_count": 39,
      "outputs": []
    },
    {
      "cell_type": "code",
      "source": [
        "# 훈련 데이터의 준비\n",
        "\n",
        "x_val = x_train[:1000]\n",
        "partial_x_train = x_train[1000:]\n",
        "y_val = one_hot_train_labels[:1000]\n",
        "partial_y_train = one_hot_train_labels[1000:]"
      ],
      "metadata": {
        "id": "lHO_GEgRxGRs"
      },
      "execution_count": 40,
      "outputs": []
    },
    {
      "cell_type": "code",
      "source": [
        "history = model.fit(partial_x_train, \n",
        "                    partial_y_train,\n",
        "                    epochs=20,\n",
        "                    batch_size=512,\n",
        "                    validation_data=(x_val, y_val))"
      ],
      "metadata": {
        "colab": {
          "base_uri": "https://localhost:8080/"
        },
        "id": "4qhj8Sq4xHn8",
        "outputId": "78225701-5105-41f3-f2b7-98c7d8b39fb8"
      },
      "execution_count": 41,
      "outputs": [
        {
          "output_type": "stream",
          "name": "stdout",
          "text": [
            "Epoch 1/20\n",
            "16/16 [==============================] - 2s 38ms/step - loss: 2.5424 - accuracy: 0.5204 - val_loss: 1.6788 - val_accuracy: 0.6290\n",
            "Epoch 2/20\n",
            "16/16 [==============================] - 0s 30ms/step - loss: 1.3827 - accuracy: 0.7048 - val_loss: 1.2715 - val_accuracy: 0.7290\n",
            "Epoch 3/20\n",
            "16/16 [==============================] - 0s 29ms/step - loss: 1.0254 - accuracy: 0.7851 - val_loss: 1.0948 - val_accuracy: 0.7550\n",
            "Epoch 4/20\n",
            "16/16 [==============================] - 0s 29ms/step - loss: 0.8006 - accuracy: 0.8350 - val_loss: 1.0017 - val_accuracy: 0.7880\n",
            "Epoch 5/20\n",
            "16/16 [==============================] - 0s 28ms/step - loss: 0.6368 - accuracy: 0.8662 - val_loss: 0.9417 - val_accuracy: 0.8030\n",
            "Epoch 6/20\n",
            "16/16 [==============================] - 0s 28ms/step - loss: 0.5013 - accuracy: 0.8965 - val_loss: 0.9352 - val_accuracy: 0.7950\n",
            "Epoch 7/20\n",
            "16/16 [==============================] - 0s 29ms/step - loss: 0.4028 - accuracy: 0.9172 - val_loss: 0.9340 - val_accuracy: 0.7910\n",
            "Epoch 8/20\n",
            "16/16 [==============================] - 0s 28ms/step - loss: 0.3295 - accuracy: 0.9297 - val_loss: 0.8916 - val_accuracy: 0.8060\n",
            "Epoch 9/20\n",
            "16/16 [==============================] - 0s 29ms/step - loss: 0.2783 - accuracy: 0.9384 - val_loss: 0.9019 - val_accuracy: 0.8130\n",
            "Epoch 10/20\n",
            "16/16 [==============================] - 0s 29ms/step - loss: 0.2342 - accuracy: 0.9446 - val_loss: 0.9165 - val_accuracy: 0.8090\n",
            "Epoch 11/20\n",
            "16/16 [==============================] - 1s 37ms/step - loss: 0.2032 - accuracy: 0.9484 - val_loss: 0.9577 - val_accuracy: 0.8020\n",
            "Epoch 12/20\n",
            "16/16 [==============================] - 1s 69ms/step - loss: 0.1829 - accuracy: 0.9523 - val_loss: 0.9429 - val_accuracy: 0.8130\n",
            "Epoch 13/20\n",
            "16/16 [==============================] - 1s 51ms/step - loss: 0.1620 - accuracy: 0.9549 - val_loss: 0.9768 - val_accuracy: 0.8030\n",
            "Epoch 14/20\n",
            "16/16 [==============================] - 1s 52ms/step - loss: 0.1524 - accuracy: 0.9543 - val_loss: 1.0018 - val_accuracy: 0.8040\n",
            "Epoch 15/20\n",
            "16/16 [==============================] - 1s 51ms/step - loss: 0.1360 - accuracy: 0.9559 - val_loss: 0.9926 - val_accuracy: 0.8060\n",
            "Epoch 16/20\n",
            "16/16 [==============================] - 1s 62ms/step - loss: 0.1274 - accuracy: 0.9573 - val_loss: 1.0564 - val_accuracy: 0.7970\n",
            "Epoch 17/20\n",
            "16/16 [==============================] - 1s 45ms/step - loss: 0.1237 - accuracy: 0.9574 - val_loss: 1.0924 - val_accuracy: 0.7950\n",
            "Epoch 18/20\n",
            "16/16 [==============================] - 1s 59ms/step - loss: 0.1219 - accuracy: 0.9573 - val_loss: 1.0302 - val_accuracy: 0.8030\n",
            "Epoch 19/20\n",
            "16/16 [==============================] - 1s 51ms/step - loss: 0.1160 - accuracy: 0.9565 - val_loss: 1.0555 - val_accuracy: 0.8010\n",
            "Epoch 20/20\n",
            "16/16 [==============================] - 1s 44ms/step - loss: 0.1078 - accuracy: 0.9572 - val_loss: 1.1563 - val_accuracy: 0.7870\n"
          ]
        }
      ]
    },
    {
      "cell_type": "code",
      "source": [
        "# 학습 결과를 가져온다. \n",
        "loss = history.history['loss']\n",
        "val_loss = history.history['val_loss']\n",
        "acc = history.history['accuracy']\n",
        "val_acc = history.history['val_accuracy']\n",
        "\n",
        "epochs = range(1, len(loss) + 1)"
      ],
      "metadata": {
        "id": "y3IIe7u8xJPr"
      },
      "execution_count": 42,
      "outputs": []
    },
    {
      "cell_type": "code",
      "source": [
        "# 결과를 시각화 한다. \n",
        "plt.plot(epochs, loss, 'bo', label='Training Loss')\n",
        "plt.plot(epochs, val_loss, 'b-', label='Validation Loss')\n",
        "plt.title('Training and validation loss')\n",
        "plt.xlabel('Epochs')\n",
        "plt.ylabel('Loss')\n",
        "plt.legend()"
      ],
      "metadata": {
        "colab": {
          "base_uri": "https://localhost:8080/",
          "height": 313
        },
        "id": "TUK6ESZNxLAi",
        "outputId": "6eecee54-d8c8-40e1-ff4f-380844f70a27"
      },
      "execution_count": 43,
      "outputs": [
        {
          "output_type": "execute_result",
          "data": {
            "text/plain": [
              "<matplotlib.legend.Legend at 0x7fb520a414d0>"
            ]
          },
          "metadata": {},
          "execution_count": 43
        },
        {
          "output_type": "display_data",
          "data": {
            "text/plain": [
              "<Figure size 432x288 with 1 Axes>"
            ],
            "image/png": "[encoded data removed]"
          },
          "metadata": {
            "needs_background": "light"
          }
        }
      ]
    },
    {
      "cell_type": "code",
      "source": [
        "# 결과를 시각화 한다. \n",
        "plt.plot(epochs, acc, 'bo', label='Training Accuracy')\n",
        "plt.plot(epochs, val_acc, 'b-', label='Validation Accuracy')\n",
        "plt.title('Training and validation Accuracy')\n",
        "plt.xlabel('Epochs')\n",
        "plt.ylabel('Accuracy')\n",
        "plt.legend()"
      ],
      "metadata": {
        "colab": {
          "base_uri": "https://localhost:8080/",
          "height": 313
        },
        "id": "rVViT5nVxMUF",
        "outputId": "2249a115-af8b-481b-987b-4f503f2588cc"
      },
      "execution_count": 44,
      "outputs": [
        {
          "output_type": "execute_result",
          "data": {
            "text/plain": [
              "<matplotlib.legend.Legend at 0x7fb521a6df90>"
            ]
          },
          "metadata": {},
          "execution_count": 44
        },
        {
          "output_type": "display_data",
          "data": {
            "text/plain": [
              "<Figure size 432x288 with 1 Axes>"
            ],
            "image/png": "[encoded data removed]"
          },
          "metadata": {
            "needs_background": "light"
          }
        }
      ]
    },
    {
      "cell_type": "code",
      "source": [],
      "metadata": {
        "id": "Tmg8IEzSxNdG"
      },
      "execution_count": null,
      "outputs": []
    }
  ]
}