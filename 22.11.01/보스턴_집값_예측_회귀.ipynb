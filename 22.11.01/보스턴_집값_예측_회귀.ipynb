{
  "nbformat": 4,
  "nbformat_minor": 0,
  "metadata": {
    "colab": {
      "provenance": [],
      "collapsed_sections": []
    },
    "kernelspec": {
      "name": "python3",
      "display_name": "Python 3"
    },
    "language_info": {
      "name": "python"
    },
    "accelerator": "GPU",
    "gpuClass": "standard"
  },
  "cells": [
    {
      "cell_type": "code",
      "execution_count": 1,
      "metadata": {
        "id": "2qYiVBmsy-Bo"
      },
      "outputs": [],
      "source": [
        "import keras\n",
        "import numpy as np\n",
        "import matplotlib.pyplot as plt"
      ]
    },
    {
      "cell_type": "markdown",
      "source": [
        "### 보스턴 주택 가격 데이터셋"
      ],
      "metadata": {
        "id": "xb77ng8dzLRf"
      }
    },
    {
      "cell_type": "code",
      "source": [
        "from keras.datasets import boston_housing \n",
        "(train_data, train_labels), (test_data, test_labels) = boston_housing.load_data() "
      ],
      "metadata": {
        "id": "UuXehOR_zKdA"
      },
      "execution_count": 2,
      "outputs": []
    },
    {
      "cell_type": "code",
      "source": [
        "train_data.shape"
      ],
      "metadata": {
        "colab": {
          "base_uri": "https://localhost:8080/"
        },
        "id": "qMcRQ08QzcJw",
        "outputId": "e9fd4d76-354b-4fca-d154-41bd6a75114a"
      },
      "execution_count": 3,
      "outputs": [
        {
          "output_type": "execute_result",
          "data": {
            "text/plain": [
              "(404, 13)"
            ]
          },
          "metadata": {},
          "execution_count": 3
        }
      ]
    },
    {
      "cell_type": "code",
      "source": [
        "test_data.shape"
      ],
      "metadata": {
        "colab": {
          "base_uri": "https://localhost:8080/"
        },
        "id": "5ytgBWbzzm6i",
        "outputId": "4f11a659-16b9-4c27-d98c-a52ddd11dd70"
      },
      "execution_count": 4,
      "outputs": [
        {
          "output_type": "execute_result",
          "data": {
            "text/plain": [
              "(102, 13)"
            ]
          },
          "metadata": {},
          "execution_count": 4
        }
      ]
    },
    {
      "cell_type": "code",
      "source": [
        "mean = train_data.mean(axis=0)"
      ],
      "metadata": {
        "id": "q85uGPxpzn5W"
      },
      "execution_count": 5,
      "outputs": []
    },
    {
      "cell_type": "code",
      "source": [
        "mean # column에 대한 평균값 "
      ],
      "metadata": {
        "colab": {
          "base_uri": "https://localhost:8080/"
        },
        "id": "O8nzza9vz_Sz",
        "outputId": "59f2e7b7-4760-4d88-bdd1-6c232d4ea2af"
      },
      "execution_count": 6,
      "outputs": [
        {
          "output_type": "execute_result",
          "data": {
            "text/plain": [
              "array([3.74511057e+00, 1.14801980e+01, 1.11044307e+01, 6.18811881e-02,\n",
              "       5.57355941e-01, 6.26708168e+00, 6.90106436e+01, 3.74027079e+00,\n",
              "       9.44059406e+00, 4.05898515e+02, 1.84759901e+01, 3.54783168e+02,\n",
              "       1.27408168e+01])"
            ]
          },
          "metadata": {},
          "execution_count": 6
        }
      ]
    },
    {
      "cell_type": "code",
      "source": [
        "train_data = train_data - mean "
      ],
      "metadata": {
        "id": "96rHdRRW0ANs"
      },
      "execution_count": 7,
      "outputs": []
    },
    {
      "cell_type": "markdown",
      "source": [
        "표준편차를 구한다. "
      ],
      "metadata": {
        "id": "CtZKuc3P2WEe"
      }
    },
    {
      "cell_type": "code",
      "source": [
        "std = train_data.std(axis=0) "
      ],
      "metadata": {
        "id": "nKvVcNHq2ONq"
      },
      "execution_count": 8,
      "outputs": []
    },
    {
      "cell_type": "code",
      "source": [
        "train_data = train_data / std "
      ],
      "metadata": {
        "id": "fOSavs1z284S"
      },
      "execution_count": 9,
      "outputs": []
    },
    {
      "cell_type": "code",
      "source": [
        "train_data[0]"
      ],
      "metadata": {
        "colab": {
          "base_uri": "https://localhost:8080/"
        },
        "id": "sNccBhiR2_7G",
        "outputId": "497a8574-7d60-48fc-f6c4-33f3d22ce66a"
      },
      "execution_count": 10,
      "outputs": [
        {
          "output_type": "execute_result",
          "data": {
            "text/plain": [
              "array([-0.27224633, -0.48361547, -0.43576161, -0.25683275, -0.1652266 ,\n",
              "       -0.1764426 ,  0.81306188,  0.1166983 , -0.62624905, -0.59517003,\n",
              "        1.14850044,  0.44807713,  0.8252202 ])"
            ]
          },
          "metadata": {},
          "execution_count": 10
        }
      ]
    },
    {
      "cell_type": "code",
      "source": [
        "mean = test_data.mean(axis=0)\n",
        "test_data -= mean \n",
        "std = test_data.std(axis=0)\n",
        "test_data /= std "
      ],
      "metadata": {
        "id": "KE0eMIRN3e4C"
      },
      "execution_count": 11,
      "outputs": []
    },
    {
      "cell_type": "markdown",
      "source": [
        "### 신경망 만들기"
      ],
      "metadata": {
        "id": "0cjh5hhe4arR"
      }
    },
    {
      "cell_type": "code",
      "source": [
        "from keras import models\n",
        "from keras import layers \n",
        "\n",
        "def build_model():\n",
        "  model = models.Sequential()\n",
        "  model.add(layers.Dense(64,activation='relu', input_shape=(train_data.shape[1],))) #input컬럼 개수보다 더 많은 수로 (64)로 잡아줌. \n",
        "  model.add(layers.Dense(64, activation='relu'))\n",
        "  model.add(layers.Dense(1)) #집 값 하나가 나옴. \n",
        "\n",
        "  model.compile(optimizer='rmsprop', loss='mse', metrics=['mae']) \n",
        "\n",
        "  return model  "
      ],
      "metadata": {
        "id": "RUNXE-g531Th"
      },
      "execution_count": 12,
      "outputs": []
    },
    {
      "cell_type": "markdown",
      "source": [
        "### K-folder 검증 "
      ],
      "metadata": {
        "id": "bxyf4C8K8fV4"
      }
    },
    {
      "cell_type": "code",
      "source": [
        "# K-folder 검증\n",
        "k = 4\n",
        "num_epochs = 20\n",
        "\n",
        "num_val_samples = len(train_data) // k #폴더의 사이즈\n",
        "all_scores = []\n",
        "\n",
        "for i in range(k):\n",
        "  print('처리중인 폴드 #',i)\n",
        "\n",
        "  # 검증 데이터를 준비: k번째 분할\n",
        "  val_data = train_data[i * num_val_samples : (i+1) * num_val_samples]\n",
        "  val_labels = train_labels[i * num_val_samples : (i+1) * num_val_samples]\n",
        "  \n",
        "  # 훈련 데이터의 준비:\n",
        "  partial_train_data = np.concatenate( # 2개의 값을 하나로 합친다. \n",
        "    [train_data[: i * num_val_samples],\n",
        "    train_data[(i+1)*num_val_samples:]], axis=0)\n",
        "  \n",
        "  partial_train_labels = np.concatenate(\n",
        "    [train_labels[: i * num_val_samples],\n",
        "    train_labels[(i+1)*num_val_samples:]], axis=0)\n",
        "\n",
        "  model = build_model()\n",
        "  history = model.fit(partial_train_data,\n",
        "            partial_train_labels,\n",
        "            epochs=num_epochs,\n",
        "            batch_size=1,\n",
        "            validation_data=(val_data, val_labels), \n",
        "            verbose=0 ) #verbose는 불필요한 출력 안보이게한다. \n",
        "  \n",
        "  mae_history = history.history['mae'] \n",
        "\n",
        "  # val_mse, val_mae = model.evaluate(val_data, val_labels, verbose=0)\n",
        "  all_scores.append(mae_history) \n"
      ],
      "metadata": {
        "colab": {
          "base_uri": "https://localhost:8080/"
        },
        "id": "hgeHTX2g8H2R",
        "outputId": "64dd6b35-1e7a-45e6-a8b5-85666d664f93"
      },
      "execution_count": 13,
      "outputs": [
        {
          "output_type": "stream",
          "name": "stdout",
          "text": [
            "처리중인 폴드 # 0\n",
            "처리중인 폴드 # 1\n",
            "처리중인 폴드 # 2\n",
            "처리중인 폴드 # 3\n"
          ]
        }
      ]
    },
    {
      "cell_type": "code",
      "source": [
        "all_scores  "
      ],
      "metadata": {
        "colab": {
          "base_uri": "https://localhost:8080/"
        },
        "id": "k0h_EPHHAxYo",
        "outputId": "fd6478eb-a5a5-4d4a-fc60-65721041a4ab"
      },
      "execution_count": 14,
      "outputs": [
        {
          "output_type": "execute_result",
          "data": {
            "text/plain": [
              "[[10.18554973602295,\n",
              "  3.489767551422119,\n",
              "  2.958489179611206,\n",
              "  2.7430152893066406,\n",
              "  2.5603182315826416,\n",
              "  2.462308406829834,\n",
              "  2.4471235275268555,\n",
              "  2.3548858165740967,\n",
              "  2.3713197708129883,\n",
              "  2.2365217208862305,\n",
              "  2.281386375427246,\n",
              "  2.2155404090881348,\n",
              "  2.2099123001098633,\n",
              "  2.1808228492736816,\n",
              "  2.1630682945251465,\n",
              "  2.1637258529663086,\n",
              "  2.1222691535949707,\n",
              "  2.0244979858398438,\n",
              "  2.0740997791290283,\n",
              "  1.9949687719345093],\n",
              " [11.034390449523926,\n",
              "  3.46044921875,\n",
              "  2.859736680984497,\n",
              "  2.6578853130340576,\n",
              "  2.5210464000701904,\n",
              "  2.3945772647857666,\n",
              "  2.3419642448425293,\n",
              "  2.2285006046295166,\n",
              "  2.2178921699523926,\n",
              "  2.1833314895629883,\n",
              "  2.1208112239837646,\n",
              "  2.121088743209839,\n",
              "  2.0812089443206787,\n",
              "  2.0971803665161133,\n",
              "  2.07171893119812,\n",
              "  2.019153594970703,\n",
              "  1.991353988647461,\n",
              "  1.9579991102218628,\n",
              "  1.9539474248886108,\n",
              "  1.9435737133026123],\n",
              " [10.094599723815918,\n",
              "  3.6073951721191406,\n",
              "  3.131010055541992,\n",
              "  2.7876672744750977,\n",
              "  2.540198564529419,\n",
              "  2.445718765258789,\n",
              "  2.3186895847320557,\n",
              "  2.257969617843628,\n",
              "  2.241410970687866,\n",
              "  2.140735626220703,\n",
              "  2.0542194843292236,\n",
              "  2.0994679927825928,\n",
              "  2.0733768939971924,\n",
              "  2.029801607131958,\n",
              "  2.0137393474578857,\n",
              "  1.8925446271896362,\n",
              "  1.9426491260528564,\n",
              "  1.8853782415390015,\n",
              "  1.9172552824020386,\n",
              "  1.907677412033081],\n",
              " [10.92969799041748,\n",
              "  3.8013365268707275,\n",
              "  3.101565361022949,\n",
              "  2.7783384323120117,\n",
              "  2.50742769241333,\n",
              "  2.4305014610290527,\n",
              "  2.341317892074585,\n",
              "  2.3115806579589844,\n",
              "  2.2758076190948486,\n",
              "  2.165802478790283,\n",
              "  2.2377352714538574,\n",
              "  2.149418354034424,\n",
              "  2.0462639331817627,\n",
              "  2.061427116394043,\n",
              "  2.1231133937835693,\n",
              "  2.0265111923217773,\n",
              "  2.029330253601074,\n",
              "  2.017610549926758,\n",
              "  1.9320439100265503,\n",
              "  1.9210007190704346]]"
            ]
          },
          "metadata": {},
          "execution_count": 14
        }
      ]
    },
    {
      "cell_type": "code",
      "source": [
        "np.mean(all_scores)"
      ],
      "metadata": {
        "colab": {
          "base_uri": "https://localhost:8080/"
        },
        "id": "EzMytIf0Hzsv",
        "outputId": "e89a2422-b0f5-4987-b6d0-3833c590cdc3"
      },
      "execution_count": 15,
      "outputs": [
        {
          "output_type": "execute_result",
          "data": {
            "text/plain": [
              "2.7258342131972313"
            ]
          },
          "metadata": {},
          "execution_count": 15
        }
      ]
    },
    {
      "cell_type": "code",
      "source": [
        "average_mae_history = [np.mean([x[i] for x in all_scores]) for i in range(num_epochs)]"
      ],
      "metadata": {
        "id": "Y6TUWaV2O-PQ"
      },
      "execution_count": 16,
      "outputs": []
    },
    {
      "cell_type": "code",
      "source": [
        "plt.plot(range(1,len(average_mae_history)+1), average_mae_history)\n",
        "plt.xlabel('Epochs')\n",
        "plt.ylabel('Validation MAE') "
      ],
      "metadata": {
        "colab": {
          "base_uri": "https://localhost:8080/",
          "height": 297
        },
        "id": "RhAk1nKeH3Ga",
        "outputId": "d5866932-34b8-4c5f-d6e2-2ef17b40616f"
      },
      "execution_count": 17,
      "outputs": [
        {
          "output_type": "execute_result",
          "data": {
            "text/plain": [
              "Text(0, 0.5, 'Validation MAE')"
            ]
          },
          "metadata": {},
          "execution_count": 17
        },
        {
          "output_type": "display_data",
          "data": {
            "text/plain": [
              "<Figure size 432x288 with 1 Axes>"
            ],
            "image/png": "[encoded data removed]"
          },
          "metadata": {
            "needs_background": "light"
          }
        }
      ]
    },
    {
      "cell_type": "code",
      "source": [],
      "metadata": {
        "id": "zO5N-boVQqTy"
      },
      "execution_count": 17,
      "outputs": []
    }
  ]
}